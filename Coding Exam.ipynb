{
 "cells": [
  {
   "cell_type": "code",
   "execution_count": null,
   "id": "d474d949",
   "metadata": {},
   "outputs": [],
   "source": [
    "class Health_Premium:\n",
    "    def __init__(self, gender = input('Enter your gender='),\n",
    "                      DOB = input('Enter your DOB='),\n",
    "                      Smoker = input('Are you smoker=')):\n",
    "        self.gender =gender\n",
    "        self.DOB = DOB\n",
    "        self.Smoker = Smoker\n",
    "        \n",
    "    def premium(self):\n",
    "        if self.gender==\"Male\":\n",
    "            if self.DOB>1990 and self.DOB=<2000:\n",
    "                if self.smoker == 'yes':\n",
    "                    print(' Your annual premium is rupees 35000')\n",
    "                else:\n",
    "                    y= 35000-(35000*10/100)\n",
    "                    print('Your annual premium is = rupees', y)\n",
    "                break\n",
    "            elif self.DOB>=1970 and self.DOB<1990:\n",
    "                if self.smoker == 'yes':\n",
    "                    print(' Your annual premium is rupees 40000')\n",
    "                else:\n",
    "                    x= 40000-(40000*5/100)\n",
    "                    print('Your annual premium is = rupees', x)\n",
    "                break\n",
    "            else:\n",
    "                print('Try again, Please enter the DOB between 1970 and 2000')\n",
    "                break\n",
    "            \n",
    "        elif self.gender==\"Female\":\n",
    "            if self.DOB>1990 and self.DOB<=2000:\n",
    "                if self.smoker == 'yes':\n",
    "                    print(' Your annual premium is rupees 30000')\n",
    "                else:\n",
    "                    y= 30000-(30000*10/100)\n",
    "                    print('Your annual premium is = rupees', y)\n",
    "                break\n",
    "            elif self.DOB=>1970 and self.DOB<1990:\n",
    "                if self.smoker == 'yes':\n",
    "                    print(' Your annual premium is rupees 35000')\n",
    "                else:\n",
    "                    x= 35000-(35000*5/100)\n",
    "                    print('Your annual premium is = rupees', x)\n",
    "                break\n",
    "            else:\n",
    "                print('Try again, Please enter the DOB between 1970 and 2000')\n",
    "                break"
   ]
  },
  {
   "cell_type": "code",
   "execution_count": null,
   "id": "52808a1c",
   "metadata": {},
   "outputs": [],
   "source": [
    "Health = Health_Premium()\n",
    "Health.premium"
   ]
  },
  {
   "cell_type": "code",
   "execution_count": null,
   "id": "8c85eff3",
   "metadata": {},
   "outputs": [],
   "source": []
  },
  {
   "cell_type": "code",
   "execution_count": null,
   "id": "adc6a3a4",
   "metadata": {},
   "outputs": [],
   "source": []
  },
  {
   "cell_type": "code",
   "execution_count": null,
   "id": "674eadf2",
   "metadata": {},
   "outputs": [],
   "source": []
  },
  {
   "cell_type": "code",
   "execution_count": null,
   "id": "418fb0e4",
   "metadata": {},
   "outputs": [],
   "source": []
  },
  {
   "cell_type": "code",
   "execution_count": null,
   "id": "9794faac",
   "metadata": {},
   "outputs": [],
   "source": []
  }
 ],
 "metadata": {
  "kernelspec": {
   "display_name": "Python 3 (ipykernel)",
   "language": "python",
   "name": "python3"
  },
  "language_info": {
   "codemirror_mode": {
    "name": "ipython",
    "version": 3
   },
   "file_extension": ".py",
   "mimetype": "text/x-python",
   "name": "python",
   "nbconvert_exporter": "python",
   "pygments_lexer": "ipython3",
   "version": "3.11.5"
  }
 },
 "nbformat": 4,
 "nbformat_minor": 5
}
